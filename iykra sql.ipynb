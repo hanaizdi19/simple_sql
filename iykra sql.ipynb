{
 "cells": [
  {
   "cell_type": "code",
   "execution_count": 3,
   "metadata": {},
   "outputs": [],
   "source": [
    "import psycopg2"
   ]
  },
  {
   "cell_type": "code",
   "execution_count": 8,
   "metadata": {},
   "outputs": [],
   "source": [
    "from configparser import ConfigParser\n",
    "\n",
    "def config(filename='database.ini', section='postgresql'):\n",
    "    # create a parser\n",
    "    parser = ConfigParser()\n",
    "    # read config file\n",
    "    parser.read(filename)\n",
    "\n",
    "    # get section, default to postgresql\n",
    "    db = {}\n",
    "    if parser.has_section(section):\n",
    "        params = parser.items(section)\n",
    "        for param in params:\n",
    "            db[param[0]] = param[1]\n",
    "    else:\n",
    "        raise Exception('Section {0} not found in the {1} file'.format(section, filename))\n",
    "\n",
    "    return db"
   ]
  },
  {
   "cell_type": "code",
   "execution_count": 9,
   "metadata": {},
   "outputs": [],
   "source": [
    "import psycopg2\n",
    "\n",
    "def connect():\n",
    "    \"\"\" Connect to the PostgreSQL database server \"\"\"\n",
    "    conn = None\n",
    "    try:\n",
    "        # read connection parameters\n",
    "        params = config()\n",
    "\n",
    "        # connect to the PostgreSQL server\n",
    "        print('Connecting to the PostgreSQL database...')\n",
    "        conn = psycopg2.connect(**params)\n",
    "\t\t\n",
    "        # create a cursor\n",
    "        cur = conn.cursor()\n",
    "        \n",
    "\t# execute a statement\n",
    "        print('PostgreSQL database version:')\n",
    "        cur.execute('SELECT version()')\n",
    "\n",
    "        # display the PostgreSQL database server version\n",
    "        db_version = cur.fetchone()\n",
    "        print(db_version)\n",
    "       \n",
    "\t# close the communication with the PostgreSQL\n",
    "        cur.close()\n",
    "    except (Exception, psycopg2.DatabaseError) as error:\n",
    "        print(error)\n",
    "    finally:\n",
    "        if conn is not None:\n",
    "            conn.close()\n",
    "            print('Database connection closed.')"
   ]
  },
  {
   "cell_type": "code",
   "execution_count": 10,
   "metadata": {},
   "outputs": [
    {
     "name": "stdout",
     "output_type": "stream",
     "text": [
      "Connecting to the PostgreSQL database...\n",
      "PostgreSQL database version:\n",
      "('PostgreSQL 13.1, compiled by Visual C++ build 1914, 64-bit',)\n",
      "Database connection closed.\n"
     ]
    }
   ],
   "source": [
    "connect()"
   ]
  },
  {
   "cell_type": "code",
   "execution_count": 43,
   "metadata": {},
   "outputs": [],
   "source": [
    "class projek_sql:\n",
    "    def __init__(self):\n",
    "        pass \n",
    "    \n",
    "    def open_connect(self):\n",
    "        params = config()\n",
    "        self.connection = psycopg2.connect(**params)\n",
    "        print('Koneksi dibuka')\n",
    "    \n",
    "    def query_sql(self, query, kolom):\n",
    "        self.cursor = self.connection.cursor()       \n",
    "        print('PostgreSQL database version:')\n",
    "        self.cursor.execute('SELECT version()')\n",
    "        db_version = self.cursor.fetchone()\n",
    "        print(db_version)\n",
    "        self.cursor.execute(query)\n",
    "        hasil = self.cursor.fetchall()\n",
    "        hasil =pd.DataFrame(hasil,columns=kolom)\n",
    "        return hasil\n",
    "        \n",
    "    def close_connect(self):\n",
    "        self.cursor.close()\n",
    "        self.connection.close()\n",
    "        print(\"Koneksi ditutup\")    "
   ]
  },
  {
   "cell_type": "code",
   "execution_count": 44,
   "metadata": {},
   "outputs": [
    {
     "name": "stdout",
     "output_type": "stream",
     "text": [
      "Koneksi dibuka\n",
      "PostgreSQL database version:\n",
      "('PostgreSQL 13.1, compiled by Visual C++ build 1914, 64-bit',)\n"
     ]
    }
   ],
   "source": [
    "import pandas as pd\n",
    "#test\n",
    "test = projek_sql()\n",
    "test.open_connect()\n",
    "query = '''select * from actor'''\n",
    "kolom = ['aktor_id', 'first_name', 'last_name','last_update']\n",
    "df = test.query_sql(query, kolom)"
   ]
  },
  {
   "cell_type": "code",
   "execution_count": 45,
   "metadata": {},
   "outputs": [
    {
     "data": {
      "text/html": [
       "<div>\n",
       "<style scoped>\n",
       "    .dataframe tbody tr th:only-of-type {\n",
       "        vertical-align: middle;\n",
       "    }\n",
       "\n",
       "    .dataframe tbody tr th {\n",
       "        vertical-align: top;\n",
       "    }\n",
       "\n",
       "    .dataframe thead th {\n",
       "        text-align: right;\n",
       "    }\n",
       "</style>\n",
       "<table border=\"1\" class=\"dataframe\">\n",
       "  <thead>\n",
       "    <tr style=\"text-align: right;\">\n",
       "      <th></th>\n",
       "      <th>aktor_id</th>\n",
       "      <th>first_name</th>\n",
       "      <th>last_name</th>\n",
       "      <th>last_update</th>\n",
       "    </tr>\n",
       "  </thead>\n",
       "  <tbody>\n",
       "    <tr>\n",
       "      <th>0</th>\n",
       "      <td>1</td>\n",
       "      <td>Penelope</td>\n",
       "      <td>Guiness</td>\n",
       "      <td>2013-05-26 14:47:57.620</td>\n",
       "    </tr>\n",
       "    <tr>\n",
       "      <th>1</th>\n",
       "      <td>2</td>\n",
       "      <td>Nick</td>\n",
       "      <td>Wahlberg</td>\n",
       "      <td>2013-05-26 14:47:57.620</td>\n",
       "    </tr>\n",
       "    <tr>\n",
       "      <th>2</th>\n",
       "      <td>3</td>\n",
       "      <td>Ed</td>\n",
       "      <td>Chase</td>\n",
       "      <td>2013-05-26 14:47:57.620</td>\n",
       "    </tr>\n",
       "    <tr>\n",
       "      <th>3</th>\n",
       "      <td>4</td>\n",
       "      <td>Jennifer</td>\n",
       "      <td>Davis</td>\n",
       "      <td>2013-05-26 14:47:57.620</td>\n",
       "    </tr>\n",
       "    <tr>\n",
       "      <th>4</th>\n",
       "      <td>5</td>\n",
       "      <td>Johnny</td>\n",
       "      <td>Lollobrigida</td>\n",
       "      <td>2013-05-26 14:47:57.620</td>\n",
       "    </tr>\n",
       "    <tr>\n",
       "      <th>...</th>\n",
       "      <td>...</td>\n",
       "      <td>...</td>\n",
       "      <td>...</td>\n",
       "      <td>...</td>\n",
       "    </tr>\n",
       "    <tr>\n",
       "      <th>195</th>\n",
       "      <td>196</td>\n",
       "      <td>Bela</td>\n",
       "      <td>Walken</td>\n",
       "      <td>2013-05-26 14:47:57.620</td>\n",
       "    </tr>\n",
       "    <tr>\n",
       "      <th>196</th>\n",
       "      <td>197</td>\n",
       "      <td>Reese</td>\n",
       "      <td>West</td>\n",
       "      <td>2013-05-26 14:47:57.620</td>\n",
       "    </tr>\n",
       "    <tr>\n",
       "      <th>197</th>\n",
       "      <td>198</td>\n",
       "      <td>Mary</td>\n",
       "      <td>Keitel</td>\n",
       "      <td>2013-05-26 14:47:57.620</td>\n",
       "    </tr>\n",
       "    <tr>\n",
       "      <th>198</th>\n",
       "      <td>199</td>\n",
       "      <td>Julia</td>\n",
       "      <td>Fawcett</td>\n",
       "      <td>2013-05-26 14:47:57.620</td>\n",
       "    </tr>\n",
       "    <tr>\n",
       "      <th>199</th>\n",
       "      <td>200</td>\n",
       "      <td>Thora</td>\n",
       "      <td>Temple</td>\n",
       "      <td>2013-05-26 14:47:57.620</td>\n",
       "    </tr>\n",
       "  </tbody>\n",
       "</table>\n",
       "<p>200 rows × 4 columns</p>\n",
       "</div>"
      ],
      "text/plain": [
       "     aktor_id first_name     last_name             last_update\n",
       "0           1   Penelope       Guiness 2013-05-26 14:47:57.620\n",
       "1           2       Nick      Wahlberg 2013-05-26 14:47:57.620\n",
       "2           3         Ed         Chase 2013-05-26 14:47:57.620\n",
       "3           4   Jennifer         Davis 2013-05-26 14:47:57.620\n",
       "4           5     Johnny  Lollobrigida 2013-05-26 14:47:57.620\n",
       "..        ...        ...           ...                     ...\n",
       "195       196       Bela        Walken 2013-05-26 14:47:57.620\n",
       "196       197      Reese          West 2013-05-26 14:47:57.620\n",
       "197       198       Mary        Keitel 2013-05-26 14:47:57.620\n",
       "198       199      Julia       Fawcett 2013-05-26 14:47:57.620\n",
       "199       200      Thora        Temple 2013-05-26 14:47:57.620\n",
       "\n",
       "[200 rows x 4 columns]"
      ]
     },
     "execution_count": 45,
     "metadata": {},
     "output_type": "execute_result"
    }
   ],
   "source": [
    "df"
   ]
  },
  {
   "cell_type": "code",
   "execution_count": 46,
   "metadata": {},
   "outputs": [
    {
     "name": "stdout",
     "output_type": "stream",
     "text": [
      "Koneksi dibuka\n",
      "PostgreSQL database version:\n",
      "('PostgreSQL 13.1, compiled by Visual C++ build 1914, 64-bit',)\n",
      "   kategori_id  kategori  num_films\n",
      "0            4  Classics         57\n"
     ]
    }
   ],
   "source": [
    "#1\n",
    "query1 = '''select a.category_id, a.name, count(b.film_id)\n",
    "from category a full outer join film_category b\n",
    "on a.category_id = b.category_id \n",
    "where a.name ='Classics'\n",
    "group by a.category_id'''\n",
    "test = projek_sql()\n",
    "test.open_connect()\n",
    "kolom1 = ['kategori_id', 'kategori', 'num_films']\n",
    "df1 = test.query_sql(query1, kolom1)\n",
    "print(df1)"
   ]
  },
  {
   "cell_type": "code",
   "execution_count": 47,
   "metadata": {},
   "outputs": [
    {
     "name": "stdout",
     "output_type": "stream",
     "text": [
      "PostgreSQL database version:\n",
      "('PostgreSQL 13.1, compiled by Visual C++ build 1914, 64-bit',)\n",
      "   jumlah film\n",
      "0           52\n"
     ]
    }
   ],
   "source": [
    "#2\n",
    "query2 = '''select count(title) \n",
    "from film where rating='R' and replacement_cost between 5 and 15  \n",
    "group by rating'''\n",
    "kolom2 = ['jumlah film']\n",
    "df2 = test.query_sql(query2, kolom2)\n",
    "print(df2)"
   ]
  },
  {
   "cell_type": "code",
   "execution_count": 48,
   "metadata": {},
   "outputs": [
    {
     "name": "stdout",
     "output_type": "stream",
     "text": [
      "PostgreSQL database version:\n",
      "('PostgreSQL 13.1, compiled by Visual C++ build 1914, 64-bit',)\n",
      "   staff id  banyaknya transaksi total pembayaran\n",
      "0         1                 7292         30252.12\n",
      "1         2                 7304         31059.92\n"
     ]
    }
   ],
   "source": [
    "#3\n",
    "query3='''select a.staff_id, count(a.payment_id), sum(a.amount) \n",
    "from payment a full outer join staff b on a.staff_id = b.staff_id \n",
    "group by(a.staff_id)'''\n",
    "kolom3 = ['staff id', 'banyaknya transaksi', 'total pembayaran' ]\n",
    "df3 = test.query_sql(query3, kolom3)\n",
    "print(df3)"
   ]
  },
  {
   "cell_type": "code",
   "execution_count": 49,
   "metadata": {},
   "outputs": [
    {
     "name": "stdout",
     "output_type": "stream",
     "text": [
      "PostgreSQL database version:\n",
      "('PostgreSQL 13.1, compiled by Visual C++ build 1914, 64-bit',)\n",
      "  rating average rating\n",
      "0      R          20.23\n",
      "1  NC-17          20.14\n",
      "2      G          20.12\n",
      "3     PG          18.96\n",
      "4  PG-13          20.40\n"
     ]
    }
   ],
   "source": [
    "#4\n",
    "query4='''select rating, avg(replacement_cost)::numeric(10,2) \n",
    "from film group by rating'''\n",
    "kolom4 = ['rating', 'average rating']\n",
    "df4 = test.query_sql(query4, kolom4)\n",
    "print(df4)"
   ]
  },
  {
   "cell_type": "code",
   "execution_count": 51,
   "metadata": {},
   "outputs": [
    {
     "name": "stdout",
     "output_type": "stream",
     "text": [
      "PostgreSQL database version:\n",
      "('PostgreSQL 13.1, compiled by Visual C++ build 1914, 64-bit',)\n",
      "             name                              email total payment\n",
      "0    Eleanor Hunt    eleanor.hunt@sakilacustomer.org        211.55\n",
      "1       Karl Seal       karl.seal@sakilacustomer.org        208.58\n",
      "2   Marion Snyder   marion.snyder@sakilacustomer.org        194.61\n",
      "3  Rhonda Kennedy  rhonda.kennedy@sakilacustomer.org        191.62\n",
      "4      Clara Shaw      clara.shaw@sakilacustomer.org        189.60\n"
     ]
    }
   ],
   "source": [
    "#5\n",
    "query5='''select first_name || ' ' || last_name AS name, email, sum(amount) \n",
    "from customer a full outer join payment b on a.customer_id = b.customer_id \n",
    "group by name, email order by sum(amount) desc limit 5'''\n",
    "kolom5 = ['name', 'email', 'total payment']\n",
    "df5 = test.query_sql(query5, kolom5)\n",
    "print(df5)"
   ]
  },
  {
   "cell_type": "code",
   "execution_count": 53,
   "metadata": {},
   "outputs": [
    {
     "name": "stdout",
     "output_type": "stream",
     "text": [
      "PostgreSQL database version:\n",
      "('PostgreSQL 13.1, compiled by Visual C++ build 1914, 64-bit',)\n",
      "       Kategori  Jumlah Customer yang meminjam average_rating_rate\n",
      "0        Family                           1096                2.70\n",
      "1         Games                            969                3.13\n",
      "2     Animation                           1166                2.76\n",
      "3      Classics                            939                2.64\n",
      "4   Documentary                           1050                2.62\n",
      "5           New                            940                3.09\n",
      "6        Sports                           1179                3.07\n",
      "7      Children                            945                2.69\n",
      "8         Music                            830                3.06\n",
      "9        Travel                            837                3.32\n",
      "10      Foreign                           1033                2.95\n",
      "11        Drama                           1060                3.18\n",
      "12       Horror                            846                3.10\n",
      "13       Action                           1112                2.67\n",
      "14       Sci-Fi                           1101                2.99\n",
      "15       Comedy                            941                3.28\n"
     ]
    }
   ],
   "source": [
    "query6='''select a.name,  count(c.customer_id) as jumlah_customer, avg(rental_rate) ::numeric(10,2)\n",
    "from rental c \n",
    "inner join inventory d on c.inventory_id = d.inventory_id \n",
    "inner join film_category b on b.film_id = d.film_id \n",
    "inner join category a on b.category_id = a.category_id\n",
    "inner join film e on b.film_id=e.film_id\n",
    "group by a.name'''\n",
    "kolom6 = ['Kategori', 'Jumlah Customer yang meminjam', 'average_rating_rate']\n",
    "df6 = test.query_sql(query6, kolom6)\n",
    "print(df6)"
   ]
  },
  {
   "cell_type": "code",
   "execution_count": 54,
   "metadata": {},
   "outputs": [
    {
     "name": "stdout",
     "output_type": "stream",
     "text": [
      "PostgreSQL database version:\n",
      "('PostgreSQL 13.1, compiled by Visual C++ build 1914, 64-bit',)\n",
      "           name                            email  jumlah peminjaman\n",
      "0    Clara Shaw    clara.shaw@sakilacustomer.org                 40\n",
      "1     Karl Seal     karl.seal@sakilacustomer.org                 42\n",
      "2  Eleanor Hunt  eleanor.hunt@sakilacustomer.org                 45\n"
     ]
    }
   ],
   "source": [
    "#7\n",
    "query7= '''select first_name || ' ' || last_name AS name, email, count(rental_id) \n",
    "from customer a full outer join payment b on a.customer_id = b.customer_id \n",
    "group by name, email\n",
    "HAVING count(rental_id) >= 40'''\n",
    "kolom7 = ['name', 'email', 'jumlah peminjaman']\n",
    "df7 = test.query_sql(query7, kolom7)\n",
    "print(df7)"
   ]
  },
  {
   "cell_type": "code",
   "execution_count": null,
   "metadata": {},
   "outputs": [],
   "source": []
  }
 ],
 "metadata": {
  "kernelspec": {
   "display_name": "Python 3",
   "language": "python",
   "name": "python3"
  },
  "language_info": {
   "codemirror_mode": {
    "name": "ipython",
    "version": 3
   },
   "file_extension": ".py",
   "mimetype": "text/x-python",
   "name": "python",
   "nbconvert_exporter": "python",
   "pygments_lexer": "ipython3",
   "version": "3.7.6"
  }
 },
 "nbformat": 4,
 "nbformat_minor": 4
}
